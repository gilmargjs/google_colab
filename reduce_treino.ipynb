{
  "nbformat": 4,
  "nbformat_minor": 0,
  "metadata": {
    "colab": {
      "name": "reduce_treino.ipynb",
      "provenance": [],
      "collapsed_sections": [],
      "authorship_tag": "ABX9TyO4uOYYEswGhTjh5PjZ+KTN",
      "include_colab_link": true
    },
    "kernelspec": {
      "name": "python3",
      "display_name": "Python 3"
    },
    "language_info": {
      "name": "python"
    }
  },
  "cells": [
    {
      "cell_type": "markdown",
      "metadata": {
        "id": "view-in-github",
        "colab_type": "text"
      },
      "source": [
        "<a href=\"https://colab.research.google.com/github/gilmargjs/google_colab/blob/main/reduce_treino.ipynb\" target=\"_parent\"><img src=\"https://colab.research.google.com/assets/colab-badge.svg\" alt=\"Open In Colab\"/></a>"
      ]
    },
    {
      "cell_type": "code",
      "metadata": {
        "id": "UiVwe3L-XlX4",
        "colab": {
          "base_uri": "https://localhost:8080/"
        },
        "outputId": "ac8a094a-2f32-4423-ff78-65fcf07bc93f"
      },
      "source": [
        "from functools import reduce\n",
        "\n",
        "#somar todos os valores\n",
        "precos = [10.00,7.55,12.80,7.48,9.63,52.85,43.79]\n",
        "preco2 = reduce(lambda x, y:x+y,precos)\n",
        "print(f'A soma de todos os preços é R${preco2}')\n",
        "\n",
        "#calcular o valor com 10% de desconto \n",
        "precoDescMen = reduce(lambda a,b: a + b,precos) \n",
        "print(f'o preço com 10% de desconto é R${precoDescMen - (precoDescMen * 0.10)}')\n",
        "\n",
        "#calcular o valor com 10% de juros\n",
        "precoDescMais = reduce(lambda x , y: x + y, precos)\n",
        "print(f'o preço com 20% de lucro R${precoDescMais + (precoDescMais * 0.20)}')\n"
      ],
      "execution_count": 17,
      "outputs": [
        {
          "output_type": "stream",
          "name": "stdout",
          "text": [
            "A soma de todos os preços é R$144.1\n",
            "o preço com 10% de desconto é R$129.69\n",
            "o preço com 20% de lucro R$172.92\n"
          ]
        }
      ]
    }
  ]
}