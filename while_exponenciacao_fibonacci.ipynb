{
  "nbformat": 4,
  "nbformat_minor": 0,
  "metadata": {
    "colab": {
      "name": "while_exponenciacao_fibonacci.ipynb",
      "provenance": [],
      "collapsed_sections": [],
      "authorship_tag": "ABX9TyPoFqbun4T2StDqtowiXT1r",
      "include_colab_link": true
    },
    "kernelspec": {
      "name": "python3",
      "display_name": "Python 3"
    }
  },
  "cells": [
    {
      "cell_type": "markdown",
      "metadata": {
        "id": "view-in-github",
        "colab_type": "text"
      },
      "source": [
        "<a href=\"https://colab.research.google.com/github/gilmargjs/google_colab/blob/main/while_exponenciacao_fibonacci.ipynb\" target=\"_parent\"><img src=\"https://colab.research.google.com/assets/colab-badge.svg\" alt=\"Open In Colab\"/></a>"
      ]
    },
    {
      "cell_type": "code",
      "metadata": {
        "colab": {
          "base_uri": "https://localhost:8080/"
        },
        "id": "2WnXHj6_jB88",
        "outputId": "2dea4732-5ffc-4c94-aebb-cfd565ea57d4"
      },
      "source": [
        "\"\"\"\n",
        "faça um programa que peça dois números, base e expoente, \n",
        "calcule e mostre o primeiro número  elevado ao segundo número.\n",
        "Não utilize a função potência da linguagem.\n",
        "\n",
        "o numero do expoente indica o número de vezes que a base é\n",
        "multiplicada por ela mesma\n",
        "\n",
        "a potencia é o número 1 multiplicado pela base o número do \n",
        "expoente vezes\n",
        "\n",
        "2**3 = 1*2*2*2 = 8\n",
        "2**4 = 1*2*2*2*2 = 16\n",
        "\"\"\"\n",
        "print('-='*30)\n",
        "print('{:^60}'.format('EXPONÊNCIAÇÃO'))\n",
        "print('-='*30)\n",
        "base = int(input(\"Digite o número da base: \"))\n",
        "expoente = int(input(\"Digite o número do expoente: \"))\n",
        "print('-'*60)\n",
        "\n",
        "cont = 0\n",
        "produto = 1\n",
        "while cont < expoente:\n",
        "  produto = produto*base\n",
        "  cont = cont + 1\n",
        "\n",
        "print(f'O número {base} elevado a {expoente}ª é igual a {produto}')\n",
        "print('-'*60)"
      ],
      "execution_count": 46,
      "outputs": [
        {
          "output_type": "stream",
          "name": "stdout",
          "text": [
            "-=-=-=-=-=-=-=-=-=-=-=-=-=-=-=-=-=-=-=-=-=-=-=-=-=-=-=-=-=-=\n",
            "                       EXPONÊNCIAÇÃO                        \n",
            "-=-=-=-=-=-=-=-=-=-=-=-=-=-=-=-=-=-=-=-=-=-=-=-=-=-=-=-=-=-=\n",
            "Digite o número da base: 5\n",
            "Digite o número do expoente: 3\n",
            "------------------------------------------------------------\n",
            "O número 5 elevado a 3ª é igual a 125\n",
            "------------------------------------------------------------\n"
          ]
        }
      ]
    },
    {
      "cell_type": "code",
      "metadata": {
        "colab": {
          "base_uri": "https://localhost:8080/"
        },
        "id": "9VTcK1nqAGtU",
        "outputId": "f025be5f-fd03-4fd0-a864-c119c73aa98e"
      },
      "source": [
        "\"\"\"\n",
        "Dado um número inteiro não-negativo n,determine n.\n",
        "5! = 5*4*3*2*1 = 120\n",
        "3! = 3*2*1 = 6\n",
        "\"\"\"\n",
        "print('=-'*30)\n",
        "print('{:^60}'.format('SEQUÊNCIA DE FIBONACCI'))\n",
        "print('=-'*30)\n",
        "n = int(input(\"Digite um Número: \"))\n",
        "print('-' * 60)\n",
        "\n",
        "prod = n\n",
        "cont = n-1\n",
        "while cont > 1:\n",
        "    prod = prod*cont\n",
        "    print(f'{n}! {n}x{cont} = {prod}')\n",
        "    cont = cont - 1\n",
        "print(f'{n}! = {prod}')\n",
        "print('-' * 60)"
      ],
      "execution_count": 50,
      "outputs": [
        {
          "output_type": "stream",
          "name": "stdout",
          "text": [
            "=-=-=-=-=-=-=-=-=-=-=-=-=-=-=-=-=-=-=-=-=-=-=-=-=-=-=-=-=-=-\n",
            "                   SEQUÊNCIA DE FIBONACCI                   \n",
            "=-=-=-=-=-=-=-=-=-=-=-=-=-=-=-=-=-=-=-=-=-=-=-=-=-=-=-=-=-=-\n",
            "Digite um Número: 5\n",
            "------------------------------------------------------------\n",
            "5! 5x4 = 20\n",
            "5! 5x3 = 60\n",
            "5! 5x2 = 120\n",
            "5! = 120\n",
            "------------------------------------------------------------\n"
          ]
        }
      ]
    }
  ]
}