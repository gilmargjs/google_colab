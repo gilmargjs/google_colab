{
  "nbformat": 4,
  "nbformat_minor": 0,
  "metadata": {
    "colab": {
      "name": "codinGame_funcao.ipynb",
      "provenance": [],
      "collapsed_sections": [],
      "authorship_tag": "ABX9TyMJip2iZx1UzY8576msn7zs",
      "include_colab_link": true
    },
    "kernelspec": {
      "name": "python3",
      "display_name": "Python 3"
    },
    "language_info": {
      "name": "python"
    }
  },
  "cells": [
    {
      "cell_type": "markdown",
      "metadata": {
        "id": "view-in-github",
        "colab_type": "text"
      },
      "source": [
        "<a href=\"https://colab.research.google.com/github/gilmargjs/google_colab/blob/main/codinGame_funcao.ipynb\" target=\"_parent\"><img src=\"https://colab.research.google.com/assets/colab-badge.svg\" alt=\"Open In Colab\"/></a>"
      ]
    },
    {
      "cell_type": "code",
      "execution_count": null,
      "metadata": {
        "colab": {
          "base_uri": "https://localhost:8080/"
        },
        "id": "zk7CeKQb9wCf",
        "outputId": "5a74a1f1-c91f-4a89-c089-1d64e4de09c8"
      },
      "outputs": [
        {
          "output_type": "stream",
          "name": "stdout",
          "text": [
            "soma1 = 13\n",
            "soma2 = 4\n",
            "soma3 = 1110\n"
          ]
        }
      ],
      "source": [
        "def ex_soma_2(a, b = 10, c = 0 ):\n",
        "  s = a + b + c\n",
        "  return s\n",
        "soma = ex_soma_2(1, c = 2)\n",
        "print(f'soma1 = {soma}')\n",
        "\n",
        "soma = ex_soma_2(1, c = 2, b = 1)\n",
        "print(f'soma2 = {soma}')\n",
        "\n",
        "x = 10\n",
        "y = 100\n",
        "z = 1000\n",
        "soma = ex_soma_2(x, y, z)\n",
        "print(f'soma3 = {soma}')\n"
      ]
    }
  ]
}