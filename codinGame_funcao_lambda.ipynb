{
  "nbformat": 4,
  "nbformat_minor": 0,
  "metadata": {
    "colab": {
      "name": "codinGame_funcao_lambda.ipynb",
      "provenance": [],
      "collapsed_sections": [
        "IlaU1BLmLmfs",
        "Sy8wEYuzI2_E"
      ],
      "authorship_tag": "ABX9TyPJOsOo1HhsN9pt+BD+iAaL",
      "include_colab_link": true
    },
    "kernelspec": {
      "name": "python3",
      "display_name": "Python 3"
    },
    "language_info": {
      "name": "python"
    }
  },
  "cells": [
    {
      "cell_type": "markdown",
      "metadata": {
        "id": "view-in-github",
        "colab_type": "text"
      },
      "source": [
        "<a href=\"https://colab.research.google.com/github/gilmargjs/google_colab/blob/main/codinGame_funcao_lambda.ipynb\" target=\"_parent\"><img src=\"https://colab.research.google.com/assets/colab-badge.svg\" alt=\"Open In Colab\"/></a>"
      ]
    },
    {
      "cell_type": "markdown",
      "source": [
        "# # Função Lambda\n",
        "\n",
        "O python provê um tipo diferente de função denominado de função Lambda. Num primeiro momento, funções locais (def) e expressões lambda são muito semelhantes. Em muitos casos, a escolha entre usar expressões lambda e funções locais é uma questão de estilo e preferência pessoal.\n",
        "\n",
        "Todas as características de uma função lambda são muito parecidas com as funções locais, com exceção de duas coisas: elas não possuem uma definição em código, ou seja, são declaradas como variáveis e não possuem um def próprio; e elas são funções de uma linha, que funcionam como se houvesse a instrução return antes do comando.\n",
        "\n"
      ],
      "metadata": {
        "id": "IlaU1BLmLmfs"
      }
    },
    {
      "cell_type": "code",
      "execution_count": null,
      "metadata": {
        "colab": {
          "base_uri": "https://localhost:8080/"
        },
        "id": "BKTxHcUsGh4v",
        "outputId": "a7a224bd-c01f-4ead-e970-da2215136b16"
      },
      "outputs": [
        {
          "output_type": "stream",
          "name": "stdout",
          "text": [
            "soma = 30\n",
            "Soma Lambda = 30\n"
          ]
        }
      ],
      "source": [
        "#função normal\n",
        "def ex_soma (a, b):\n",
        "  s = a + b\n",
        "  return s\n",
        "\n",
        "#função lambda\n",
        "soma_lambda = lambda numero1, numero2: numero1 + numero2\n",
        "#atribuindo valores\n",
        "soma = ex_soma(10, 20)\n",
        "print(f'soma = {soma}')\n",
        "#atribuindo valores\n",
        "soma = soma_lambda(10,20)\n",
        "print(f'Soma Lambda = {soma}')"
      ]
    },
    {
      "cell_type": "code",
      "source": [
        "#função lambda\n",
        "cubo = lambda numero1, numero2: numero1 * numero2 \n",
        "cubo(3,6)\n",
        "#cubo(5,2)"
      ],
      "metadata": {
        "colab": {
          "base_uri": "https://localhost:8080/"
        },
        "id": "WPEhTMGWH9Hf",
        "outputId": "52d826e2-a523-4ca9-8c37-9014432e12b5"
      },
      "execution_count": null,
      "outputs": [
        {
          "output_type": "execute_result",
          "data": {
            "text/plain": [
              "18"
            ]
          },
          "metadata": {},
          "execution_count": 4
        }
      ]
    },
    {
      "cell_type": "markdown",
      "source": [
        "# Lambda com Map\n",
        "A função map() tem como objetivo aplicar uma função a todos os elementos de uma lista gerando uma nova lista como resultado. O formato geral é:**negrito**"
      ],
      "metadata": {
        "id": "Sy8wEYuzI2_E"
      }
    },
    {
      "cell_type": "code",
      "source": [
        "lista = [1, 2, 3, 4, 5, 6]\n",
        "#eleva ao quadrado os elementos de lista \n",
        "#para criar lista1\n",
        "lista1 = list(map(lambda x: x**2, lista))\n",
        "#impressão formatada\n",
        "print(f'lista = {lista} \\n\\nlista1 = {lista1}')\n"
      ],
      "metadata": {
        "colab": {
          "base_uri": "https://localhost:8080/"
        },
        "id": "Ezfyw3lpIzmp",
        "outputId": "9b64f8f7-f8da-4948-f625-d22c7e778c3f"
      },
      "execution_count": null,
      "outputs": [
        {
          "output_type": "stream",
          "name": "stdout",
          "text": [
            "lista = [1, 2, 3, 4, 5, 6] \n",
            "\n",
            "lista1 = [1, 4, 9, 16, 25, 36]\n"
          ]
        }
      ]
    },
    {
      "cell_type": "markdown",
      "source": [
        "# # Lambda com Reduce\n",
        "A função reduce() aplica uma função em todos de uma lista, e retornar apenas um valor. O formato geral é:"
      ],
      "metadata": {
        "id": "wfaVyoIZKCjo"
      }
    },
    {
      "cell_type": "code",
      "source": [
        "from functools import reduce\n",
        "\n",
        "lista = [1, 2, 3, 4, 5, 6]\n",
        "#Retorna o Produto de Todos os Elementos de lista\n",
        "#ou seja a soma de todos os itens\n",
        "produto = reduce(lambda x,y: x * y, lista)\n",
        "print(f'lista = {lista} \\n\\nProduto = {produto}')"
      ],
      "metadata": {
        "colab": {
          "base_uri": "https://localhost:8080/"
        },
        "id": "8gWIpZKQKtNe",
        "outputId": "62bab29d-7f02-44be-835b-17b99f05adf0"
      },
      "execution_count": null,
      "outputs": [
        {
          "output_type": "stream",
          "name": "stdout",
          "text": [
            "lista = [1, 2, 3, 4, 5, 6] \n",
            "\n",
            "Produto = 720\n"
          ]
        }
      ]
    },
    {
      "cell_type": "markdown",
      "source": [
        "# # Lambda com Filter\n",
        "A função filter() aplica um filtro sobre os elementos da lista, de acordo com a função passada como primeiro argumento. O formato geral é:"
      ],
      "metadata": {
        "id": "ew9ET9tgNFB8"
      }
    },
    {
      "cell_type": "code",
      "source": [
        "lista = [1, 2, 3, 4, 5, 6]\n",
        "#retorna a lista de números ímpares\n",
        "lista1 = list(filter(lambda x: x % 2 != 0, lista))\n",
        "print(f'lista = {lista} \\n\\nlista1 = {lista1}')"
      ],
      "metadata": {
        "colab": {
          "base_uri": "https://localhost:8080/"
        },
        "id": "PL4uCHM7NPa3",
        "outputId": "1657c0d9-8e66-43eb-b448-0f792425b331"
      },
      "execution_count": null,
      "outputs": [
        {
          "output_type": "stream",
          "name": "stdout",
          "text": [
            "lista = [1, 2, 3, 4, 5, 6] \n",
            "\n",
            "lista1 = [1, 3, 5]\n"
          ]
        }
      ]
    }
  ]
}